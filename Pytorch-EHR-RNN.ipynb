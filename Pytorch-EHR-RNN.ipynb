{
 "cells": [
  {
   "cell_type": "code",
   "execution_count": 2,
   "metadata": {},
   "outputs": [],
   "source": [
    "%matplotlib inline"
   ]
  },
  {
   "cell_type": "markdown",
   "metadata": {},
   "source": [
    "This is playing with pytorch framework for EHR modeling. In general, a patient's health record can be represented as a sequence of visits. Each visit has certain features, and can be represented as a list of medical codes.\n",
    "\n",
    "For simplicity, we are starting with the data structure that a patient's health record is a list of list, following the line of work from Jimeng Sun's lab. We will use codes from Ed Choi to manipulate the data. \n",
    "\n",
    "The core model is an GRU/LSTM.\n",
    "\n",
    "# todos:\n",
    "* dropout\n",
    "* L1/L2 regularization\n",
    "* validation and AUC"
   ]
  },
  {
   "cell_type": "code",
   "execution_count": 3,
   "metadata": {},
   "outputs": [],
   "source": [
    "from __future__ import print_function, division\n",
    "from io import open\n",
    "import string\n",
    "import re\n",
    "import random\n",
    "\n",
    "import torch\n",
    "import torch.nn as nn\n",
    "from torch.autograd import Variable\n",
    "from torch import optim\n",
    "import torch.nn.functional as F\n",
    "\n",
    "use_cuda = torch.cuda.is_available()"
   ]
  },
  {
   "cell_type": "code",
   "execution_count": 4,
   "metadata": {},
   "outputs": [
    {
     "data": {
      "text/plain": [
       "False"
      ]
     },
     "execution_count": 4,
     "metadata": {},
     "output_type": "execute_result"
    }
   ],
   "source": [
    "use_cuda"
   ]
  },
  {
   "cell_type": "code",
   "execution_count": 5,
   "metadata": {},
   "outputs": [],
   "source": [
    "# prepare data: load the input file containing list of list of list, and corresponding label file\n",
    "# and output the merged list of pairs\n",
    "import sys, random\n",
    "import numpy as np\n",
    "try:\n",
    "    import cPickle as pickle\n",
    "except:\n",
    "    import pickle\n",
    "\n",
    "# set random seed\n",
    "random.seed( 3 )\n",
    "\n",
    "seqFile = 'data/cerner/hospital_data/h143.visits'\n",
    "labelFile = 'data/cerner/hospital_data/h143.labels'\n",
    "set_x = pickle.load(open(seqFile, 'rb'), encoding='bytes')\n",
    "set_y = pickle.load(open(labelFile, 'rb'),encoding='bytes')\n",
    "\n",
    "labeled_ehr_seq_list = [(set_y[i],set_x[i]) for i in range(len(set_x))] # merge the two lists"
   ]
  },
  {
   "cell_type": "code",
   "execution_count": 7,
   "metadata": {},
   "outputs": [
    {
     "data": {
      "text/plain": [
       "(0,\n",
       " [[5814, 714, 6636, 109, 84, 85],\n",
       "  [714, 109, 84, 85],\n",
       "  [150, 714, 673, 109, 84, 85],\n",
       "  [714, 109, 84, 85],\n",
       "  [5814, 714, 109, 84, 85],\n",
       "  [5814, 714, 778, 109, 84, 85],\n",
       "  [714, 68, 109, 84, 85],\n",
       "  [5814, 714, 109, 84, 85],\n",
       "  [714, 68, 109, 84, 85],\n",
       "  [714, 778, 109, 84, 85],\n",
       "  [714, 778, 231, 84, 85],\n",
       "  [714, 231, 84, 85],\n",
       "  [714, 231, 84, 85],\n",
       "  [714, 231, 84, 85]])"
      ]
     },
     "execution_count": 7,
     "metadata": {},
     "output_type": "execute_result"
    }
   ],
   "source": [
    "labeled_ehr_seq_list[1]\n",
    "# [float(v) for v in c]"
   ]
  },
  {
   "cell_type": "code",
   "execution_count": 24,
   "metadata": {},
   "outputs": [],
   "source": [
    "class EHR_RNN(nn.Module):\n",
    "    def __init__(self, input_size, hidden_size, n_layers=1):\n",
    "        super(EHR_RNN, self).__init__()\n",
    "        self.n_layers = n_layers\n",
    "        self.hidden_size = hidden_size\n",
    "\n",
    "        self.embedding = nn.Embedding(input_size, hidden_size)\n",
    "        self.gru = nn.GRUCell(hidden_size, hidden_size)\n",
    "        # self.gru = nn.LSTMCell(hidden_size, hidden_size, )\n",
    "        self.out = nn.Linear(self.hidden_size,1)\n",
    "        self.sigmoid = nn.Sigmoid()\n",
    "        \n",
    "    def EmbedPatient(self, x): # x is a ehr_seq_tensor\n",
    "        for i in range(len(x)):\n",
    "            emb = self.embedding(x[i]).view(-1, 1, self.hidden_size)\n",
    "            #print(emb)\n",
    "            emb = torch.sum(emb, dim=0).view(1,1,-1)\n",
    "            if i==0:\n",
    "                y = emb\n",
    "            else:\n",
    "                y = torch.cat((y, emb), 0)\n",
    "        \n",
    "        if use_cuda:\n",
    "            y= y.cuda()\n",
    "                \n",
    "        return y\n",
    "\n",
    "\n",
    "    def forward(self, input, hidden):\n",
    "        embedded = self.EmbedPatient(input) # [seqlen*batchsize*embdim]\n",
    "        output = []\n",
    "        c = Variable(torch.zeros(1, self.hidden_size))\n",
    "        # print(c)\n",
    "        for i in range(len(input)):\n",
    "            # print (embedded[i])\n",
    "            # c, hidden = self.gru(embedded[i], (c, hidden)) \n",
    "            hidden = self.gru(embedded[i], hidden) \n",
    "\n",
    "            \n",
    "        output = self.sigmoid(self.out(hidden[0]))\n",
    "        return output, hidden\n",
    "\n",
    "    def initHidden(self):\n",
    "        result = Variable(torch.zeros(1, self.hidden_size))\n",
    "        if use_cuda:\n",
    "            return result.cuda()\n",
    "        else:\n",
    "            return result"
   ]
  },
  {
   "cell_type": "code",
   "execution_count": 172,
   "metadata": {},
   "outputs": [],
   "source": [
    "ehr_rnn = EHR_RNN(input_size, hidden_size = 4, n_layers=1)\n",
    "hidden = ehr_rnn.initHidden()\n",
    "hidden\n",
    "hidden[0]\n",
    "ehr_rnn.zero_grad()\n",
    "i=0\n",
    "hidden\n",
    "output, hidden = ehr_rnn(ehr_seq_tensor, hidden)"
   ]
  },
  {
   "cell_type": "code",
   "execution_count": 162,
   "metadata": {},
   "outputs": [
    {
     "data": {
      "text/plain": [
       "Variable containing:\n",
       " 0.0023  0.0550 -0.8257 -0.0307\n",
       "[torch.FloatTensor of size 1x4]"
      ]
     },
     "execution_count": 162,
     "metadata": {},
     "output_type": "execute_result"
    }
   ],
   "source": [
    "hidden"
   ]
  },
  {
   "cell_type": "code",
   "execution_count": 20,
   "metadata": {
    "collapsed": true
   },
   "outputs": [],
   "source": [
    "# training one sample\n",
    "def train(label_tensor, ehr_seq_tensor, criterion, optimizer):\n",
    "    hidden = ehr_rnn.initHidden()\n",
    "\n",
    "    ehr_rnn.zero_grad()\n",
    "\n",
    "    for i in range(len(ehr_seq_tensor)):\n",
    "        output, hidden = ehr_rnn(ehr_seq_tensor[i], hidden)\n",
    "\n",
    "    loss = criterion(output, label_tensor)\n",
    "    loss.backward()\n",
    "\n",
    "    optimizer.step()\n",
    "   \n",
    "    return output, loss.data[0]\n"
   ]
  },
  {
   "cell_type": "code",
   "execution_count": 10,
   "metadata": {},
   "outputs": [],
   "source": [
    "def variableFromEHRSeq(ehr_seq):\n",
    "    # ehr_seq is a list of list\n",
    "    result = []\n",
    "    if use_cuda:\n",
    "        for i in range(len(ehr_seq)):\n",
    "            result.append( Variable(torch.LongTensor([int(v) for v in ehr_seq[i]])).cuda() )\n",
    "    # if use_cuda:\n",
    "    #     return result.cuda()\n",
    "    else:\n",
    "        for i in range(len(ehr_seq)):\n",
    "            result.append( Variable(torch.LongTensor([int(v) for v in ehr_seq[i]])) )\n",
    "\n",
    "    return result"
   ]
  },
  {
   "cell_type": "code",
   "execution_count": 30,
   "metadata": {
    "collapsed": true
   },
   "outputs": [],
   "source": [
    "# training all samples in random order\n",
    "import time\n",
    "import math\n",
    "\n",
    "input_size = 20000\n",
    "\n",
    "# Keep track of losses for plotting\n",
    "current_loss = 0\n",
    "all_losses = []\n",
    "\n",
    "def timeSince(since):\n",
    "    now = time.time()\n",
    "    s = now - since\n",
    "    m = math.floor(s / 60)\n",
    "    s -= m * 60\n",
    "    return '%dm %ds' % (m, s)\n",
    "\n"
   ]
  },
  {
   "cell_type": "code",
   "execution_count": 29,
   "metadata": {
    "collapsed": true
   },
   "outputs": [],
   "source": [
    "ehr_rnn = EHR_RNN(input_size, hidden_size = 2, n_layers=1)\n",
    "if use_cuda:\n",
    "    ehr_rnn = ehr_rnn.cuda()"
   ]
  },
  {
   "cell_type": "code",
   "execution_count": 31,
   "metadata": {},
   "outputs": [
    {
     "name": "stderr",
     "output_type": "stream",
     "text": [
      "//anaconda/envs/py36/lib/python3.6/site-packages/torch/nn/functional.py:1189: UserWarning: Using a target size (torch.Size([1, 1])) that is different to the input size (torch.Size([1])) is deprecated. Please ensure they have the same size.\n",
      "  \"Please ensure they have the same size.\".format(target.size(), input.size()))\n"
     ]
    },
    {
     "name": "stdout",
     "output_type": "stream",
     "text": [
      "50 5% (0m 2s) 0.6603 \n",
      "100 10% (0m 4s) 0.6171 \n",
      "150 15% (0m 5s) 0.4863 \n",
      "200 20% (0m 8s) 0.3903 \n",
      "250 25% (0m 9s) 0.3190 \n",
      "300 30% (0m 11s) 0.2953 \n",
      "350 35% (0m 12s) 0.2427 \n",
      "400 40% (0m 14s) 0.2020 \n",
      "450 45% (0m 16s) 0.2147 \n",
      "500 50% (0m 19s) 0.2104 \n",
      "550 55% (0m 20s) 1.7758 \n",
      "600 60% (0m 22s) 0.3239 \n",
      "650 65% (0m 25s) 0.1645 \n",
      "700 70% (0m 26s) 0.2330 \n",
      "750 75% (0m 28s) 0.1566 \n",
      "800 80% (0m 30s) 0.1575 \n",
      "850 85% (0m 32s) 1.9687 \n",
      "900 90% (0m 34s) 0.1725 \n",
      "950 95% (0m 36s) 0.1683 \n",
      "1000 100% (0m 37s) 0.1455 \n"
     ]
    }
   ],
   "source": [
    "n_iters = 1000#00\n",
    "print_every = 50#00\n",
    "plot_every = 10#00\n",
    "\n",
    "\n",
    "start = time.time()\n",
    "learning_rate = 0.01\n",
    "optimizer = optim.SGD(ehr_rnn.parameters(), lr=learning_rate)\n",
    "\n",
    "for iter in range(1, n_iters + 1):\n",
    "    label, ehr_seq = random.choice(labeled_ehr_seq_list)\n",
    "    label_tensor = Variable(torch.FloatTensor([[float(label)]]))\n",
    "    if use_cuda:\n",
    "        label_tensor = label_tensor.cuda() \n",
    "    ehr_seq_tensor = variableFromEHRSeq(ehr_seq)\n",
    "    \n",
    "    output, loss = train(label_tensor, ehr_seq_tensor, criterion = nn.BCELoss(), optimizer = optimizer)\n",
    "    current_loss += loss\n",
    "\n",
    "    # Print iter number, loss, name and guess\n",
    "    if iter % print_every == 0:\n",
    "        print('%d %d%% (%s) %.4f ' % (iter, iter / n_iters * 100, timeSince(start), loss))\n",
    "\n",
    "    # Add current loss avg to list of losses\n",
    "    if iter % plot_every == 0:\n",
    "        all_losses.append(current_loss / plot_every)\n",
    "        current_loss = 0"
   ]
  },
  {
   "cell_type": "code",
   "execution_count": 32,
   "metadata": {},
   "outputs": [
    {
     "data": {
      "text/plain": [
       "<matplotlib.figure.Figure at 0x117bd2e48>"
      ]
     },
     "metadata": {},
     "output_type": "display_data"
    },
    {
     "data": {
      "image/png": "[encoded data removed]",
      "text/plain": [
       "<matplotlib.figure.Figure at 0x117bd2a90>"
      ]
     },
     "metadata": {},
     "output_type": "display_data"
    }
   ],
   "source": [
    "# plotting and diagnose\n",
    "import matplotlib.pyplot as plt\n",
    "import matplotlib.ticker as ticker\n",
    "import numpy as np\n",
    "\n",
    "\n",
    "def showPlot(points):\n",
    "    plt.figure()\n",
    "    fig, ax = plt.subplots()\n",
    "    # this locator puts ticks at regular intervals\n",
    "    loc = ticker.MultipleLocator(base=0.2)\n",
    "    ax.yaxis.set_major_locator(loc)\n",
    "    plt.plot(points)\n",
    "    \n",
    "showPlot(all_losses)"
   ]
  },
  {
   "cell_type": "code",
   "execution_count": 133,
   "metadata": {
    "collapsed": true
   },
   "outputs": [],
   "source": [
    "# validation/test\n"
   ]
  },
  {
   "cell_type": "code",
   "execution_count": null,
   "metadata": {
    "collapsed": true
   },
   "outputs": [],
   "source": []
  }
 ],
 "metadata": {
  "kernelspec": {
   "display_name": "Python 3",
   "language": "python",
   "name": "python3"
  },
  "language_info": {
   "codemirror_mode": {
    "name": "ipython",
    "version": 3
   },
   "file_extension": ".py",
   "mimetype": "text/x-python",
   "name": "python",
   "nbconvert_exporter": "python",
   "pygments_lexer": "ipython3",
   "version": "3.6.3"
  }
 },
 "nbformat": 4,
 "nbformat_minor": 1
}
