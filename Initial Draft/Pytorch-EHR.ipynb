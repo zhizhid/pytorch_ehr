{
 "cells": [
  {
   "cell_type": "code",
   "execution_count": 1,
   "metadata": {
    "collapsed": false,
    "deletable": true,
    "editable": true
   },
   "outputs": [],
   "source": [
    "%matplotlib inline"
   ]
  },
  {
   "cell_type": "markdown",
   "metadata": {
    "deletable": true,
    "editable": true
   },
   "source": [
    "This is playing with pytorch framework for EHR modeling. In general, a patient's health record can be represented as a sequence of visits. Each visit has certain features, and can be represented as a list of medical codes.\n",
    "\n",
    "For simplicity, we are starting with the data structure that a patient's health record is a list of list, following the line of work from Jimeng Sun's lab. We will use codes from Ed Choi to manipulate the data. \n",
    "\n",
    "The core model is an GRU.\n",
    "\n",
    "# todos:\n",
    "* dropout\n",
    "* L1/L2 regularization\n",
    "* validation and AUC"
   ]
  },
  {
   "cell_type": "code",
   "execution_count": 2,
   "metadata": {
    "collapsed": false,
    "deletable": true,
    "editable": true
   },
   "outputs": [],
   "source": [
    "from __future__ import print_function, division\n",
    "from io import open\n",
    "import string\n",
    "import re\n",
    "import random\n",
    "\n",
    "import torch\n",
    "import torch.nn as nn\n",
    "from torch.autograd import Variable\n",
    "from torch import optim\n",
    "import torch.nn.functional as F\n",
    "\n",
    "use_cuda = torch.cuda.is_available()"
   ]
  },
  {
   "cell_type": "code",
   "execution_count": 3,
   "metadata": {
    "collapsed": false,
    "deletable": true,
    "editable": true
   },
   "outputs": [
    {
     "data": {
      "text/plain": [
       "True"
      ]
     },
     "execution_count": 3,
     "metadata": {},
     "output_type": "execute_result"
    }
   ],
   "source": [
    "use_cuda"
   ]
  },
  {
   "cell_type": "code",
   "execution_count": 4,
   "metadata": {
    "collapsed": false,
    "deletable": true,
    "editable": true
   },
   "outputs": [],
   "source": [
    "# prepare data: load the input file containing list of list of list, and corresponding label file\n",
    "# and output the merged list of pairs\n",
    "import sys, random\n",
    "import numpy as np\n",
    "try:\n",
    "    import cPickle as pickle\n",
    "except:\n",
    "    import pickle\n",
    "\n",
    "# set random seed\n",
    "random.seed( 3 )\n",
    "\n",
    "seqFile = 'data/cerner/hospital_data/h143.visits'\n",
    "labelFile = 'data/cerner/hospital_data/h143.labels'\n",
    "set_x = pickle.load(open(seqFile, 'rb'), encoding='bytes')\n",
    "set_y = pickle.load(open(labelFile, 'rb'),encoding='bytes')\n",
    "\n",
    "labeled_ehr_seq_list = [(set_y[i],set_x[i]) for i in range(len(set_x))] # merge the two lists"
   ]
  },
  {
   "cell_type": "code",
   "execution_count": 6,
   "metadata": {
    "collapsed": false,
    "deletable": true,
    "editable": true
   },
   "outputs": [
    {
     "data": {
      "text/plain": [
       "(0,\n",
       " [[752, 267, 84, 85],\n",
       "  [922, 267, 84, 85],\n",
       "  [320, 267, 84, 85],\n",
       "  [119, 361, 129, 381, 267, 84, 85],\n",
       "  [816, 267, 84, 85],\n",
       "  [320, 267, 84, 85],\n",
       "  [320, 267, 84, 85],\n",
       "  [119, 129, 381, 267, 84, 85],\n",
       "  [119, 127, 129, 381, 267, 84, 85],\n",
       "  [2334, 267, 84, 85],\n",
       "  [320, 267, 84, 85],\n",
       "  [3255, 119, 320, 129, 381, 267, 84, 85],\n",
       "  [964, 267, 84, 85],\n",
       "  [1266, 267, 84, 85],\n",
       "  [320, 267, 84, 85],\n",
       "  [964, 243, 267, 84, 85],\n",
       "  [964, 243, 267, 84, 85],\n",
       "  [3566, 381, 267, 84, 85],\n",
       "  [964, 267, 84, 85],\n",
       "  [320, 267, 84, 85],\n",
       "  [984, 129, 381, 267, 84, 85],\n",
       "  [964, 267, 84, 85],\n",
       "  [964, 243, 267, 84, 85],\n",
       "  [964, 267, 84, 85],\n",
       "  [964, 267, 84, 85]])"
      ]
     },
     "execution_count": 6,
     "metadata": {},
     "output_type": "execute_result"
    }
   ],
   "source": [
    "labeled_ehr_seq_list[10]\n",
    "# [float(v) for v in c]"
   ]
  },
  {
   "cell_type": "code",
   "execution_count": 53,
   "metadata": {
    "collapsed": true,
    "deletable": true,
    "editable": true
   },
   "outputs": [],
   "source": [
    "class EHR_RNN(nn.Module):\n",
    "    def __init__(self, input_size, hidden_size, n_layers=1):\n",
    "        super(EHR_RNN, self).__init__()\n",
    "        self.n_layers = n_layers\n",
    "        self.hidden_size = hidden_size\n",
    "\n",
    "        self.embedding = nn.Embedding(input_size, hidden_size)\n",
    "        self.gru = nn.GRU(hidden_size, hidden_size)\n",
    "        self.out = nn.Linear(self.hidden_size,1)\n",
    "        self.sigmoid = nn.Sigmoid()\n",
    "\n",
    "    def forward(self, input, hidden):\n",
    "        embedded = self.embedding(input).view(-1, 1, self.hidden_size)\n",
    "        embedded = torch.sum(embedded, dim=0).view(1,1,-1)\n",
    "        output = embedded\n",
    "        for i in range(self.n_layers):\n",
    "            output, hidden = self.gru(output, hidden)\n",
    "            \n",
    "        output = self.sigmoid(self.out(output[0]))\n",
    "        return output, hidden\n",
    "\n",
    "    def initHidden(self):\n",
    "        result = Variable(torch.zeros(1, 1, self.hidden_size))\n",
    "        if use_cuda:\n",
    "            return result.cuda()\n",
    "        else:\n",
    "            return result"
   ]
  },
  {
   "cell_type": "code",
   "execution_count": 13,
   "metadata": {
    "collapsed": true,
    "deletable": true,
    "editable": true
   },
   "outputs": [],
   "source": [
    "# training one sample\n",
    "def train(label_tensor, ehr_seq_tensor, criterion, optimizer):\n",
    "    hidden = ehr_rnn.initHidden()\n",
    "\n",
    "    ehr_rnn.zero_grad()\n",
    "\n",
    "    for i in range(len(ehr_seq_tensor)):\n",
    "        output, hidden = ehr_rnn(ehr_seq_tensor[i], hidden)\n",
    "\n",
    "    loss = criterion(output, label_tensor)\n",
    "    loss.backward()\n",
    "\n",
    "    optimizer.step()\n",
    "   \n",
    "    return output, loss.data[0]\n"
   ]
  },
  {
   "cell_type": "code",
   "execution_count": 57,
   "metadata": {
    "collapsed": false,
    "deletable": true,
    "editable": true
   },
   "outputs": [],
   "source": [
    "def variableFromEHRSeq(ehr_seq):\n",
    "    # ehr_seq is a list of list\n",
    "    result = []\n",
    "    if use_cuda:\n",
    "        for i in range(len(ehr_seq)):\n",
    "            result.append( Variable(torch.LongTensor([int(v) for v in ehr_seq[i]])).cuda() )\n",
    "    # if use_cuda:\n",
    "    #     return result.cuda()\n",
    "    else:\n",
    "        for i in range(len(ehr_seq)):\n",
    "            result.append( Variable(torch.LongTensor([int(v) for v in ehr_seq[i]])) )\n",
    "\n",
    "    return result"
   ]
  },
  {
   "cell_type": "code",
   "execution_count": 63,
   "metadata": {
    "collapsed": true,
    "deletable": true,
    "editable": true
   },
   "outputs": [],
   "source": [
    "# training all samples in random order\n",
    "import time\n",
    "import math\n",
    "\n",
    "n_iters = 100000\n",
    "print_every = 5000\n",
    "plot_every = 1000\n",
    "\n",
    "input_size = 20000\n",
    "\n",
    "# Keep track of losses for plotting\n",
    "current_loss = 0\n",
    "all_losses = []\n",
    "\n",
    "def timeSince(since):\n",
    "    now = time.time()\n",
    "    s = now - since\n",
    "    m = math.floor(s / 60)\n",
    "    s -= m * 60\n",
    "    return '%dm %ds' % (m, s)\n",
    "\n"
   ]
  },
  {
   "cell_type": "code",
   "execution_count": 64,
   "metadata": {
    "collapsed": false,
    "deletable": true,
    "editable": true
   },
   "outputs": [
    {
     "name": "stdout",
     "output_type": "stream",
     "text": [
      "5000 5% (1m 51s) 0.5080 \n",
      "10000 10% (3m 35s) 0.1839 \n",
      "15000 15% (5m 19s) 0.0353 \n",
      "20000 20% (7m 24s) 0.1434 \n",
      "25000 25% (9m 42s) 2.7767 \n",
      "30000 30% (12m 3s) 0.0635 \n",
      "35000 35% (14m 22s) 0.3095 \n",
      "40000 40% (16m 39s) 0.1712 \n",
      "45000 45% (18m 46s) 0.1348 \n",
      "50000 50% (20m 57s) 3.2124 \n",
      "55000 55% (23m 19s) 0.1367 \n",
      "60000 60% (25m 44s) 0.0407 \n",
      "65000 65% (28m 3s) 0.0849 \n",
      "70000 70% (30m 28s) 0.0532 \n",
      "75000 75% (32m 30s) 0.0138 \n",
      "80000 80% (34m 40s) 0.1071 \n",
      "85000 85% (37m 2s) 0.3427 \n",
      "90000 90% (38m 57s) 0.2190 \n",
      "95000 95% (41m 13s) 0.0731 \n",
      "100000 100% (43m 15s) 0.0948 \n"
     ]
    }
   ],
   "source": [
    "start = time.time()\n",
    "ehr_rnn = EHR_RNN(input_size, hidden_size = 128)\n",
    "if use_cuda:\n",
    "    ehr_rnn = ehr_rnn.cuda()\n",
    "learning_rate = 0.001\n",
    "optimizer = optim.SGD(ehr_rnn.parameters(), lr=learning_rate)\n",
    "\n",
    "for iter in range(1, n_iters + 1):\n",
    "    label, ehr_seq = random.choice(labeled_ehr_seq_list)\n",
    "    label_tensor = Variable(torch.FloatTensor([[float(label)]]))\n",
    "    if use_cuda:\n",
    "        label_tensor = label_tensor.cuda() \n",
    "    ehr_seq_tensor = variableFromEHRSeq(ehr_seq)\n",
    "    \n",
    "    output, loss = train(label_tensor, ehr_seq_tensor, criterion = nn.BCELoss(), optimizer = optimizer)\n",
    "    current_loss += loss\n",
    "\n",
    "    # Print iter number, loss, name and guess\n",
    "    if iter % print_every == 0:\n",
    "        print('%d %d%% (%s) %.4f ' % (iter, iter / n_iters * 100, timeSince(start), loss))\n",
    "\n",
    "    # Add current loss avg to list of losses\n",
    "    if iter % plot_every == 0:\n",
    "        all_losses.append(current_loss / plot_every)\n",
    "        current_loss = 0"
   ]
  },
  {
   "cell_type": "code",
   "execution_count": 68,
   "metadata": {
    "collapsed": false,
    "deletable": true,
    "editable": true
   },
   "outputs": [
    {
     "data": {
      "text/plain": [
       "<matplotlib.figure.Figure at 0x7f861e617ac8>"
      ]
     },
     "metadata": {},
     "output_type": "display_data"
    },
    {
     "data": {
      "image/png": "[encoded data removed]",
      "text/plain": [
       "<matplotlib.figure.Figure at 0x7f861e617b00>"
      ]
     },
     "metadata": {},
     "output_type": "display_data"
    }
   ],
   "source": [
    "# plotting and diagnose\n",
    "import matplotlib.pyplot as plt\n",
    "import matplotlib.ticker as ticker\n",
    "import numpy as np\n",
    "\n",
    "\n",
    "def showPlot(points):\n",
    "    plt.figure()\n",
    "    fig, ax = plt.subplots()\n",
    "    # this locator puts ticks at regular intervals\n",
    "    loc = ticker.MultipleLocator(base=0.2)\n",
    "    ax.yaxis.set_major_locator(loc)\n",
    "    plt.plot(points)\n",
    "    \n",
    "showPlot(all_losses)"
   ]
  },
  {
   "cell_type": "code",
   "execution_count": null,
   "metadata": {
    "collapsed": true,
    "deletable": true,
    "editable": true
   },
   "outputs": [],
   "source": [
    "# validation/test\n"
   ]
  },
  {
   "cell_type": "code",
   "execution_count": 69,
   "metadata": {
    "collapsed": false,
    "deletable": true,
    "editable": true
   },
   "outputs": [
    {
     "data": {
      "text/plain": [
       "[0.45036185389384625,\n",
       " 0.3775859723575413,\n",
       " 0.37562936810404063,\n",
       " 0.37186373338475825,\n",
       " 0.37163539075478913,\n",
       " 0.34679124680161477,\n",
       " 0.3626916835568845,\n",
       " 0.36841993424110114,\n",
       " 0.3669160178825259,\n",
       " 0.3567359281945974,\n",
       " 0.3886930065229535,\n",
       " 0.32770080245751887,\n",
       " 0.3164230008115992,\n",
       " 0.31659249229449776,\n",
       " 0.3160534981070086,\n",
       " 0.340928599646315,\n",
       " 0.31306948912795635,\n",
       " 0.32751105540990827,\n",
       " 0.323151018537581,\n",
       " 0.31089705776702614,\n",
       " 0.30170459143724293,\n",
       " 0.3418931403569877,\n",
       " 0.3387779448628426,\n",
       " 0.32615592231974005,\n",
       " 0.311701596298255,\n",
       " 0.3049053551144898,\n",
       " 0.2886118961106986,\n",
       " 0.3402360961185768,\n",
       " 0.32545276371855286,\n",
       " 0.3168499764781445,\n",
       " 0.29920316889882087,\n",
       " 0.3471019284585491,\n",
       " 0.3246009302129969,\n",
       " 0.3364823093246669,\n",
       " 0.3163939027907327,\n",
       " 0.34309222260443495,\n",
       " 0.30858820424694566,\n",
       " 0.3037130907261744,\n",
       " 0.3603678338378668,\n",
       " 0.32562145951017735,\n",
       " 0.30843497765483335,\n",
       " 0.30875648852437737,\n",
       " 0.30761466614482924,\n",
       " 0.30013829468004405,\n",
       " 0.3313037310056388,\n",
       " 0.31298728902917355,\n",
       " 0.33107836460787804,\n",
       " 0.2915725540481508,\n",
       " 0.32306117788143457,\n",
       " 0.3032507581124082,\n",
       " 0.29756992010865363,\n",
       " 0.276904210770037,\n",
       " 0.333638878068421,\n",
       " 0.29425096036167814,\n",
       " 0.28597718001063915,\n",
       " 0.2740577088636346,\n",
       " 0.2995183554566465,\n",
       " 0.31515758148767054,\n",
       " 0.3450560364737175,\n",
       " 0.306414980574511,\n",
       " 0.2875880347127095,\n",
       " 0.27902411665488036,\n",
       " 0.30603690196271055,\n",
       " 0.304765371741727,\n",
       " 0.3272433618884534,\n",
       " 0.29758175123715774,\n",
       " 0.279311712665949,\n",
       " 0.3012391189443879,\n",
       " 0.2811147410431877,\n",
       " 0.2938278720728122,\n",
       " 0.3185881025148556,\n",
       " 0.32123953616735523,\n",
       " 0.32735709524014966,\n",
       " 0.3268311700168997,\n",
       " 0.2963581553492695,\n",
       " 0.2810573321711272,\n",
       " 0.28045561410253866,\n",
       " 0.28806653517344966,\n",
       " 0.31364081394625826,\n",
       " 0.29285120191425085,\n",
       " 0.30248152401275,\n",
       " 0.2922812831075862,\n",
       " 0.3046294624004513,\n",
       " 0.28458902273979036,\n",
       " 0.24907916580187156,\n",
       " 0.29897143159573897,\n",
       " 0.2865318337474018,\n",
       " 0.28323809073562733,\n",
       " 0.3180643122168258,\n",
       " 0.2731100158239715,\n",
       " 0.270413928758353,\n",
       " 0.284934209457133,\n",
       " 0.3088578530738596,\n",
       " 0.29127416022471153,\n",
       " 0.3026909924922511,\n",
       " 0.2862198858401971,\n",
       " 0.28338240372855217,\n",
       " 0.3048086008767132,\n",
       " 0.2938477782295085,\n",
       " 0.3142112347539514]"
      ]
     },
     "execution_count": 69,
     "metadata": {},
     "output_type": "execute_result"
    }
   ],
   "source": [
    "all_losses"
   ]
  },
  {
   "cell_type": "code",
   "execution_count": null,
   "metadata": {
    "collapsed": true,
    "deletable": true,
    "editable": true
   },
   "outputs": [],
   "source": []
  }
 ],
 "metadata": {
  "kernelspec": {
   "display_name": "Python 3",
   "language": "python",
   "name": "python3"
  },
  "language_info": {
   "codemirror_mode": {
    "name": "ipython",
    "version": 3
   },
   "file_extension": ".py",
   "mimetype": "text/x-python",
   "name": "python",
   "nbconvert_exporter": "python",
   "pygments_lexer": "ipython3",
   "version": "3.5.4"
  }
 },
 "nbformat": 4,
 "nbformat_minor": 0
}
