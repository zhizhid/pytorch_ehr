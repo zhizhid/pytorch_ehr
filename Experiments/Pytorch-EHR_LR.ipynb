{
 "cells": [
  {
   "cell_type": "code",
   "execution_count": 19,
   "metadata": {
    "collapsed": false,
    "deletable": true,
    "editable": true
   },
   "outputs": [],
   "source": [
    "%matplotlib inline"
   ]
  },
  {
   "cell_type": "markdown",
   "metadata": {
    "deletable": true,
    "editable": true
   },
   "source": [
    "This is playing with pytorch framework for EHR modeling. In general, a patient's health record can be represented as a sequence of visits. Each visit has certain features, and can be represented as a list of medical codes.\n",
    "\n",
    "For simplicity, we are starting with the data structure that a patient's health record is a list of list, following the line of work from Jimeng Sun's lab. We will use codes from Ed Choi to manipulate the data. \n",
    "\n",
    "The core model is an GRU.\n",
    "\n",
    "# todos:\n",
    "* dropout\n",
    "* L1/L2 regularization\n",
    "* validation and AUC"
   ]
  },
  {
   "cell_type": "code",
   "execution_count": 44,
   "metadata": {
    "collapsed": false,
    "deletable": true,
    "editable": true
   },
   "outputs": [],
   "source": [
    "from __future__ import print_function, division\n",
    "from io import open\n",
    "import string\n",
    "import re\n",
    "import random\n",
    "\n",
    "import torch\n",
    "import torch.nn as nn\n",
    "from torch.autograd import Variable\n",
    "from torch import optim\n",
    "import torch.nn.functional as F\n",
    "\n",
    "use_cuda = torch.cuda.is_available()"
   ]
  },
  {
   "cell_type": "code",
   "execution_count": 45,
   "metadata": {
    "collapsed": false,
    "deletable": true,
    "editable": true
   },
   "outputs": [
    {
     "data": {
      "text/plain": [
       "True"
      ]
     },
     "execution_count": 45,
     "metadata": {},
     "output_type": "execute_result"
    }
   ],
   "source": [
    "use_cuda\n"
   ]
  },
  {
   "cell_type": "code",
   "execution_count": 46,
   "metadata": {
    "collapsed": false,
    "deletable": true,
    "editable": true
   },
   "outputs": [],
   "source": [
    "# prepare data: load the input file containing list of list, and corresponding label file\n",
    "# and output the merged list of pairs\n",
    "import sys, random\n",
    "import numpy as np\n",
    "try:\n",
    "    import cPickle as pickle\n",
    "except:\n",
    "    import pickle\n",
    "\n",
    "# set random seed\n",
    "random.seed( 3 )\n",
    "\n",
    "seqFile = 'Data/h143.visits'\n",
    "labelFile = 'Data/h143.labels'\n",
    "set_x = pickle.load(open(seqFile, 'rb'), encoding='bytes')\n",
    "set_y = pickle.load(open(labelFile, 'rb'),encoding='bytes')\n",
    "\n",
    "x_flat =[]\n",
    "for patient in set_x:\n",
    "    x_flat.append([each for visit in patient for each in visit])  #modified, put all visits sequentially into a single list for each patients\n",
    "\n",
    "labeled_ehr_seq_list = [(set_y[i],x_flat[i]) for i in range(len(set_y))] # merge the two lists"
   ]
  },
  {
   "cell_type": "code",
   "execution_count": 47,
   "metadata": {
    "collapsed": false,
    "deletable": true,
    "editable": true
   },
   "outputs": [
    {
     "data": {
      "text/plain": [
       "(0,\n",
       " [5814,\n",
       "  714,\n",
       "  6636,\n",
       "  109,\n",
       "  84,\n",
       "  85,\n",
       "  714,\n",
       "  109,\n",
       "  84,\n",
       "  85,\n",
       "  150,\n",
       "  714,\n",
       "  673,\n",
       "  109,\n",
       "  84,\n",
       "  85,\n",
       "  714,\n",
       "  109,\n",
       "  84,\n",
       "  85,\n",
       "  5814,\n",
       "  714,\n",
       "  109,\n",
       "  84,\n",
       "  85,\n",
       "  5814,\n",
       "  714,\n",
       "  778,\n",
       "  109,\n",
       "  84,\n",
       "  85,\n",
       "  714,\n",
       "  68,\n",
       "  109,\n",
       "  84,\n",
       "  85,\n",
       "  5814,\n",
       "  714,\n",
       "  109,\n",
       "  84,\n",
       "  85,\n",
       "  714,\n",
       "  68,\n",
       "  109,\n",
       "  84,\n",
       "  85,\n",
       "  714,\n",
       "  778,\n",
       "  109,\n",
       "  84,\n",
       "  85,\n",
       "  714,\n",
       "  778,\n",
       "  231,\n",
       "  84,\n",
       "  85,\n",
       "  714,\n",
       "  231,\n",
       "  84,\n",
       "  85,\n",
       "  714,\n",
       "  231,\n",
       "  84,\n",
       "  85,\n",
       "  714,\n",
       "  231,\n",
       "  84,\n",
       "  85])"
      ]
     },
     "execution_count": 47,
     "metadata": {},
     "output_type": "execute_result"
    }
   ],
   "source": [
    "labeled_ehr_seq_list[1]\n",
    "# [float(v) for v in c]"
   ]
  },
  {
   "cell_type": "code",
   "execution_count": 48,
   "metadata": {
    "collapsed": true,
    "deletable": true,
    "editable": true
   },
   "outputs": [],
   "source": [
    "#Logistic Regression: \n",
    "class EHR_LR(nn.Module):\n",
    "    def __init__(self, input_size, hidden_size, n_layers=1): #hidden_size -> out_size in Logistic Regression \n",
    "        super(EHR_LR, self).__init__()\n",
    "        self.n_layers = n_layers\n",
    "        self.hidden_size = hidden_size\n",
    "\n",
    "        self.embedding = nn.Embedding(input_size,hidden_size)\n",
    "        self.out = nn.Linear(self.hidden_size,1)\n",
    "        self.sigmoid = nn.Sigmoid()\n",
    "\n",
    "    def forward(self, input,hidden):\n",
    "        embedded = self.embedding(input).view(-1, self.hidden_size) #modified, instead of (-1,1, self.hidden_size) => use (-1,self.hidden_size\n",
    "        embedded = torch.sum(embedded, dim=0).view(1,-1) #modified,instead of (1,1,-1) => use .view(1,-1)\n",
    "        #output = embedded\n",
    "        #for i in range(self.n_layers):\n",
    "            #output, hidden = self.gru(output, hidden)\n",
    "            \n",
    "        output = self.sigmoid(self.out(embedded))\n",
    "        hidden = self.sigmoid(self.out(embedded)) #modified,hidden == out for Logistic Regression \n",
    "        return output,hidden \n",
    "\n",
    "    def initHidden(self):\n",
    "        result = Variable(torch.zeros(1,self.hidden_size)) #modified, instead of (1,1,self.hidden_size) => use (1,self.hidden_size)\n",
    "        if use_cuda:\n",
    "            return result.cuda()\n",
    "        else:\n",
    "            return result"
   ]
  },
  {
   "cell_type": "code",
   "execution_count": 49,
   "metadata": {
    "collapsed": true,
    "deletable": true,
    "editable": true
   },
   "outputs": [],
   "source": [
    "# training one sample\n",
    "def train(label_tensor, ehr_seq_tensor, criterion, optimizer):\n",
    "    hidden = ehr_lr.initHidden()  #modified the class name in this section\n",
    "\n",
    "    ehr_lr.zero_grad()\n",
    "\n",
    "    for i in range(len(ehr_seq_tensor)):\n",
    "        output, hidden = ehr_lr(ehr_seq_tensor[i],hidden)\n",
    "\n",
    "    loss = criterion(output, label_tensor)\n",
    "    loss.backward()\n",
    "\n",
    "    optimizer.step()\n",
    "   \n",
    "    return output, loss.data[0]\n"
   ]
  },
  {
   "cell_type": "code",
   "execution_count": 50,
   "metadata": {
    "collapsed": false,
    "deletable": true,
    "editable": true
   },
   "outputs": [],
   "source": [
    "def variableFromEHRSeq(ehr_seq):\n",
    "    # ehr_seq is a list   \n",
    "    result = []\n",
    "    if use_cuda:\n",
    "        #for i in range(len(ehr_seq)):\n",
    "        result.append( Variable(torch.LongTensor([int(v) for v in ehr_seq])).cuda() ) #modified, just need a simple list comprehension \n",
    "    # if use_cuda:\n",
    "    #     return result.cuda()\n",
    "    else:\n",
    "        #for i in range(len(ehr_seq)):\n",
    "        result.append( Variable(torch.LongTensor([int(v) for v in ehr_seq])) )\n",
    "\n",
    "    return result"
   ]
  },
  {
   "cell_type": "code",
   "execution_count": 51,
   "metadata": {
    "collapsed": true,
    "deletable": true,
    "editable": true
   },
   "outputs": [],
   "source": [
    "# training all samples in random order\n",
    "import time\n",
    "import math\n",
    "\n",
    "n_iters = 100000\n",
    "print_every = 5000\n",
    "plot_every = 1000\n",
    "\n",
    "input_size = 20000\n",
    "\n",
    "# Keep track of losses for plotting\n",
    "current_loss = 0\n",
    "all_losses = []\n",
    "\n",
    "def timeSince(since):\n",
    "    now = time.time()\n",
    "    s = now - since\n",
    "    m = math.floor(s / 60)\n",
    "    s -= m * 60\n",
    "    return '%dm %ds' % (m, s)\n",
    "\n"
   ]
  },
  {
   "cell_type": "code",
   "execution_count": 52,
   "metadata": {
    "collapsed": false,
    "deletable": true,
    "editable": true
   },
   "outputs": [
    {
     "name": "stdout",
     "output_type": "stream",
     "text": [
      "5000 5% (0m 6s) 0.0529 \n",
      "10000 10% (0m 12s) 0.1868 \n",
      "15000 15% (0m 18s) 0.1734 \n",
      "20000 20% (0m 24s) 0.1219 \n",
      "25000 25% (0m 30s) 0.0380 \n",
      "30000 30% (0m 36s) 0.1948 \n",
      "35000 35% (0m 42s) 0.1204 \n",
      "40000 40% (0m 48s) 0.1122 \n",
      "45000 45% (0m 54s) 0.1078 \n",
      "50000 50% (0m 59s) 0.1124 \n",
      "55000 55% (1m 5s) 0.0250 \n",
      "60000 60% (1m 11s) 0.0269 \n",
      "65000 65% (1m 17s) 0.1084 \n",
      "70000 70% (1m 23s) 0.1181 \n",
      "75000 75% (1m 29s) 0.2151 \n",
      "80000 80% (1m 36s) 0.0624 \n",
      "85000 85% (1m 42s) 0.1178 \n",
      "90000 90% (1m 48s) 0.0358 \n",
      "95000 95% (1m 54s) 0.0443 \n",
      "100000 100% (2m 0s) 0.1410 \n"
     ]
    }
   ],
   "source": [
    "start = time.time()\n",
    "ehr_lr = EHR_LR(input_size, hidden_size = 2) #modified, class names \n",
    "if use_cuda:\n",
    "    ehr_lr = ehr_lr.cuda()\n",
    "learning_rate = 0.001\n",
    "optimizer = optim.SGD(ehr_lr.parameters(), lr=learning_rate)\n",
    "\n",
    "for iter in range(1, n_iters + 1):\n",
    "    label, ehr_seq = random.choice(labeled_ehr_seq_list)\n",
    "    label_tensor = Variable(torch.FloatTensor([[float(label)]]))\n",
    "    if use_cuda:\n",
    "        label_tensor = label_tensor.cuda() \n",
    "    ehr_seq_tensor = variableFromEHRSeq(ehr_seq)\n",
    "    \n",
    "    output, loss = train(label_tensor, ehr_seq_tensor, criterion = nn.BCELoss(), optimizer = optimizer)\n",
    "    current_loss += loss\n",
    "\n",
    "    # Print iter number, loss, name and guess\n",
    "    if iter % print_every == 0:\n",
    "        print('%d %d%% (%s) %.4f ' % (iter, iter / n_iters * 100, timeSince(start), loss))\n",
    "\n",
    "    # Add current loss avg to list of losses\n",
    "    if iter % plot_every == 0:\n",
    "        all_losses.append(current_loss / plot_every)\n",
    "        current_loss = 0"
   ]
  },
  {
   "cell_type": "code",
   "execution_count": 53,
   "metadata": {
    "collapsed": false,
    "deletable": true,
    "editable": true
   },
   "outputs": [
    {
     "data": {
      "text/plain": [
       "<matplotlib.figure.Figure at 0x7ffa0a986320>"
      ]
     },
     "metadata": {},
     "output_type": "display_data"
    },
    {
     "data": {
      "image/png": "[encoded data removed]",
      "text/plain": [
       "<matplotlib.figure.Figure at 0x7ffa089b8b00>"
      ]
     },
     "metadata": {},
     "output_type": "display_data"
    }
   ],
   "source": [
    "# plotting and diagnose\n",
    "import matplotlib.pyplot as plt\n",
    "import matplotlib.ticker as ticker\n",
    "import numpy as np\n",
    "\n",
    "\n",
    "def showPlot(points):\n",
    "    plt.figure()\n",
    "    fig, ax = plt.subplots()\n",
    "    # this locator puts ticks at regular intervals\n",
    "    loc = ticker.MultipleLocator(base=0.2)\n",
    "    ax.yaxis.set_major_locator(loc)\n",
    "    plt.plot(points)\n",
    "    \n",
    "showPlot(all_losses)"
   ]
  },
  {
   "cell_type": "code",
   "execution_count": 54,
   "metadata": {
    "collapsed": true,
    "deletable": true,
    "editable": true
   },
   "outputs": [],
   "source": [
    "# validation/test\n"
   ]
  },
  {
   "cell_type": "code",
   "execution_count": 55,
   "metadata": {
    "collapsed": false,
    "deletable": true,
    "editable": true
   },
   "outputs": [
    {
     "data": {
      "text/plain": [
       "[1.1178880953002714,\n",
       " 0.759988612756414,\n",
       " 0.5892062380706398,\n",
       " 0.6032635505719816,\n",
       " 0.571615174145913,\n",
       " 0.7571071348771498,\n",
       " 0.5337220434978612,\n",
       " 0.5816163071194536,\n",
       " 0.5139647589311962,\n",
       " 0.4882766389838671,\n",
       " 0.4149907847108907,\n",
       " 0.44213399106162987,\n",
       " 0.4998993152814075,\n",
       " 0.5945665030215144,\n",
       " 0.4668747361704627,\n",
       " 0.48424400789331234,\n",
       " 0.477227290223302,\n",
       " 0.5200678698640061,\n",
       " 0.6388221309924312,\n",
       " 0.525030606729481,\n",
       " 0.6766642074553493,\n",
       " 0.44738992886623785,\n",
       " 0.4034963713213364,\n",
       " 0.4097970876342091,\n",
       " 0.43065899013573605,\n",
       " 0.518133793542454,\n",
       " 0.47099769820311915,\n",
       " 0.4707769335181331,\n",
       " 0.4050755238192585,\n",
       " 0.4591834164657194,\n",
       " 0.38194736802286205,\n",
       " 0.437829800622309,\n",
       " 0.48266408973794883,\n",
       " 0.43056158725719434,\n",
       " 0.5368324585027858,\n",
       " 0.4875680397473188,\n",
       " 0.42993124781552433,\n",
       " 0.4817434499601059,\n",
       " 0.4375720585061538,\n",
       " 0.4377485873580963,\n",
       " 0.4850336117939281,\n",
       " 0.49986198692933703,\n",
       " 0.40389936284431316,\n",
       " 0.4567390110261622,\n",
       " 0.37610699955606103,\n",
       " 0.44787630684731994,\n",
       " 0.41308105378923937,\n",
       " 0.478905056541621,\n",
       " 0.4856833816359032,\n",
       " 0.4660629218244285,\n",
       " 0.594021533270791,\n",
       " 0.41567056125263113,\n",
       " 0.4025304914666705,\n",
       " 0.39738372749854445,\n",
       " 0.3954787598444027,\n",
       " 0.49172187343972407,\n",
       " 0.5408899648404213,\n",
       " 0.36899516089004875,\n",
       " 0.38859149847571095,\n",
       " 0.4264532567244314,\n",
       " 0.5396098361186978,\n",
       " 0.3738113809809438,\n",
       " 0.44687323695445047,\n",
       " 0.39459331839896394,\n",
       " 0.4085253866966228,\n",
       " 0.35896598716953393,\n",
       " 0.39120888615258265,\n",
       " 0.4323139191663413,\n",
       " 0.4828721254698114,\n",
       " 0.3729607376262268,\n",
       " 0.37356183594667525,\n",
       " 0.3674441030333137,\n",
       " 0.4353268888560124,\n",
       " 0.4145564947051735,\n",
       " 0.41001221060838905,\n",
       " 0.4057792640332409,\n",
       " 0.3685019939853519,\n",
       " 0.4037821799147641,\n",
       " 0.4087912482208931,\n",
       " 0.40279391343677706,\n",
       " 0.45466243233302656,\n",
       " 0.409418235393272,\n",
       " 0.4442285442723951,\n",
       " 0.49449690589571355,\n",
       " 0.4337931199969116,\n",
       " 0.3798703954387929,\n",
       " 0.38058157516492064,\n",
       " 0.4014488208506373,\n",
       " 0.4410878771751889,\n",
       " 0.4371832583993528,\n",
       " 0.40570099233903967,\n",
       " 0.4296471206378192,\n",
       " 0.40261605660337957,\n",
       " 0.40797769816749496,\n",
       " 0.35352784166957646,\n",
       " 0.41421510514472537,\n",
       " 0.3851321446317977,\n",
       " 0.42925382862869993,\n",
       " 0.4207912274088303,\n",
       " 0.3934973217393677]"
      ]
     },
     "execution_count": 55,
     "metadata": {},
     "output_type": "execute_result"
    }
   ],
   "source": [
    "all_losses"
   ]
  },
  {
   "cell_type": "code",
   "execution_count": null,
   "metadata": {
    "collapsed": true
   },
   "outputs": [],
   "source": []
  }
 ],
 "metadata": {
  "kernelspec": {
   "display_name": "Python 3",
   "language": "python",
   "name": "python3"
  },
  "language_info": {
   "codemirror_mode": {
    "name": "ipython",
    "version": 3
   },
   "file_extension": ".py",
   "mimetype": "text/x-python",
   "name": "python",
   "nbconvert_exporter": "python",
   "pygments_lexer": "ipython3",
   "version": "3.5.4"
  }
 },
 "nbformat": 4,
 "nbformat_minor": 0
}
