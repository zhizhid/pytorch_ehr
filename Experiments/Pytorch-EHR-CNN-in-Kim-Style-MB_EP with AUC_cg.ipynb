{
 "cells": [
  {
   "cell_type": "markdown",
   "metadata": {},
   "source": [
    "This is playing with pytorch framework for EHR modeling. In general, a patient's health record can be represented as a sequence of visits. Each visit has certain features, and can be represented as a list of medical codes.\n",
    "\n",
    "For simplicity, we are starting with the data structure that a patient's health record is a list of list, following the line of work from Jimeng Sun's lab. We will use codes from Ed Choi to manipulate the data. \n",
    "\n",
    "The core model is an GRU.\n",
    "\n",
    "# todos:\n",
    "* regularization\n",
    "* save/load model\n",
    "* load pre-trained embedding\n",
    "* mini-batching # Done\n",
    "* make sure it runs on GPU # Done"
   ]
  },
  {
   "cell_type": "code",
   "execution_count": null,
   "metadata": {
    "collapsed": true
   },
   "outputs": [],
   "source": [
    "%matplotlib inline\n",
    "from __future__ import print_function, division\n",
    "from io import open\n",
    "import string\n",
    "import re\n",
    "import random\n",
    "import sklearn \n",
    "from sklearn.metrics import roc_auc_score\n",
    "\n",
    "import torch\n",
    "import torch.nn as nn\n",
    "from torch.autograd import Variable\n",
    "from torch import optim\n",
    "import torch.nn.functional as F\n",
    "import torch.utils.data as Data\n",
    "\n",
    "use_cuda = torch.cuda.is_available()\n",
    "\n",
    "import sys, random\n",
    "import numpy as np\n",
    "try:\n",
    "    import cPickle as pickle\n",
    "except:\n",
    "    import pickle\n",
    "\n",
    "from torchviz import make_dot, make_dot_from_trace\n",
    "\n",
    "# for windows only    \n",
    "import os\n",
    "os.environ[\"PATH\"] += os.pathsep + 'C:/Program Files (x86)/Graphviz2.38/bin/'\n"
   ]
  },
  {
   "cell_type": "code",
   "execution_count": null,
   "metadata": {},
   "outputs": [],
   "source": [
    "use_cuda "
   ]
  },
  {
   "cell_type": "code",
   "execution_count": null,
   "metadata": {
    "collapsed": true
   },
   "outputs": [],
   "source": [
    "# prepare data: load the input file containing list of list of list, and corresponding label file\n",
    "# and output the splitted training, valid and Test sets\n",
    "\n",
    "def data_load_split_VT(seqFile = 'pytorch_ehr-master/pytorch_ehr-master/data/cerner/hospital_data/h143.visits', labelFile = 'pytorch_ehr-master/pytorch_ehr-master/data/cerner/hospital_data/h143.labels' , test_r=0.2 , valid_r=0.1):\n",
    "\n",
    "    set_x = pickle.load(open(seqFile, 'rb'), encoding='bytes')\n",
    "    set_y = pickle.load(open(labelFile, 'rb'),encoding='bytes')\n",
    "    merged_set = [[set_y[i],set_x[i]] for i in range(len(set_x))] # merge the two lists\n",
    "\n",
    "    # set random seed\n",
    "    random.seed( 3 )\n",
    "    \n",
    "    dataSize = len(merged_set)\n",
    "    nTest = int(test_r * dataSize)\n",
    "    nValid = int(valid_r * dataSize)\n",
    "    \n",
    "    random.shuffle(merged_set)\n",
    "\n",
    "    test_set = merged_set[:nTest]\n",
    "    valid_set = merged_set[nTest:nTest+nValid]\n",
    "    train_set = merged_set[nTest+nValid:]\n",
    "\n",
    "    return train_set, valid_set, test_set"
   ]
  },
  {
   "cell_type": "code",
   "execution_count": null,
   "metadata": {
    "collapsed": true
   },
   "outputs": [],
   "source": [
    "train_sl , valid_sl , test_sl = data_load_split_VT()\n",
    "\n",
    "#print (train_sl[0:5])\n"
   ]
  },
  {
   "cell_type": "code",
   "execution_count": null,
   "metadata": {
    "collapsed": true
   },
   "outputs": [],
   "source": [
    "## x=[[0, [[1667, 144, 62, 85], [1667, 144, 62, 85]]], [0, [[491, 129, 813, 149, 84, 85], [491, 129, 813, 61, 84, 85], [358, 61, 84, 85], [491, 1250, 813, 61, 84, 85], [499, 61, 84, 85], [499, 61, 84, 85], [8004, 61, 84, 85], [2914, 61, 84, 85], [2914, 61, 84, 85], [2499, 499, 61, 84, 85], [499, 61, 84, 85], [1250, 129, 813, 61, 84, 85], [1250, 61, 84, 85]]], [0, [[2374, 345, 84, 85]]], [0, [[1205, 267, 62, 85]]], [0, [[277, 144, 84, 85], [650, 692, 252, 124, 68, 129, 130, 873, 132, 16, 186, 1016, 187, 1259, 550, 96, 26, 1085, 30, 34, 226, 192, 209, 851, 1121, 177, 144, 84, 85], [2171, 144, 84, 85], [4270, 119, 350, 2171, 458, 843, 129, 130, 1664, 12, 195, 156, 1016, 74, 1259, 550, 7, 78, 1085, 31, 34, 226, 10, 43, 209, 851, 1121, 1098, 572, 144, 84, 85], [277, 144, 84, 85], [4923, 144, 84, 85], [362, 277, 144, 84, 85], [294, 144, 84, 85], [872, 144, 84, 85], [294, 144, 84, 85], [632, 393, 471, 124, 129, 130, 132, 12, 16, 89, 1016, 1259, 96, 1085, 34, 226, 43, 1121, 572, 177, 144, 84, 85], [4923, 144, 84, 85], [124, 277, 149, 84, 85]]]]\n",
    "\n",
    "#print ( max(x, key=lambda xmb: len(xmb[1])))"
   ]
  },
  {
   "cell_type": "code",
   "execution_count": null,
   "metadata": {
    "collapsed": true
   },
   "outputs": [],
   "source": [
    "class CNN_EHR(nn.Module):\n",
    "    \n",
    "    def __init__ (self, pred_cnt, embed_dim, ch_out, kernel_sizes, dropout ,eb_mode):\n",
    "        super(CNN_EHR, self).__init__()\n",
    "        \n",
    "        P = pred_cnt ## number of predictors in our model\n",
    "        D = embed_dim\n",
    "        self.D = D\n",
    "        C = 1\n",
    "        Ci = 1\n",
    "        Co = ch_out ## number of Channels out\n",
    "        Ks = kernel_sizes ## a list for different kernel(filters dimension)\n",
    "\n",
    "        self.embedBag = nn.EmbeddingBag(P, D,mode= eb_mode)\n",
    "        self.convs1 = nn.ModuleList([nn.Conv1d(D, Co, K, padding=2) for K in Ks])\n",
    "        self.dropout = nn.Dropout(dropout)\n",
    "        self.fc1 = nn.Linear(len(Ks)*Co, C)\n",
    "        self.sigmoid = nn.Sigmoid()\n",
    "   \n",
    "    def EmbedPatient_MB(self, seq_mini_batch): # x is a ehr_seq_tensor\n",
    "        \n",
    "       \n",
    "        lp= len(max(seq_mini_batch, key=lambda xmb: len(xmb[1]))[1])\n",
    "        #print ('longest',lp)\n",
    "        tb= torch.FloatTensor(len(seq_mini_batch),lp,self.D) \n",
    "        lbt1= torch.FloatTensor(len(seq_mini_batch),1)\n",
    "\n",
    "        for pt in range(len(seq_mini_batch)):\n",
    "              \n",
    "            lbt ,pt_visits =seq_mini_batch[pt]\n",
    "            lbt1[pt] = torch.FloatTensor([[float(lbt)]])\n",
    "            ml=(len(max(pt_visits, key=len))) ## getting the max number of visits for pts within the minibatch\n",
    "            txs= torch.LongTensor(len(pt_visits),ml)\n",
    "            \n",
    "            b=0\n",
    "            for i in pt_visits:\n",
    "                pd=(0, ml-len(i))\n",
    "                txs[b] = F.pad(torch.from_numpy(np.asarray(i)).view(1,-1),pd,\"constant\", 0).data\n",
    "                b=b+1\n",
    "            \n",
    "            if use_cuda:\n",
    "                txs=txs.cuda()\n",
    "                \n",
    "            emb_bp= self.embedBag(Variable(txs)) ### embed will be num_of_visits*max_num_codes*embed_dim \n",
    "            #### the embed Bag dim will be num_of_visits*embed_dim\n",
    "            \n",
    "            zp= nn.ZeroPad2d((0,0,0,(lp-len(pt_visits))))\n",
    "            xzp= zp(emb_bp)\n",
    "            tb[pt]=xzp.data\n",
    "\n",
    "        tb= tb.permute(1, 0, 2) ### as my final input need to be seq_len x batch_size x input_size\n",
    "        emb_m=Variable(tb)\n",
    "        label_tensor = Variable(lbt1)\n",
    "\n",
    "        if use_cuda:\n",
    "                label_tensor = label_tensor.cuda()\n",
    "                emb_m = emb_m.cuda()\n",
    "                \n",
    "        return emb_m , label_tensor\n",
    "\n",
    "\n",
    "    def forward(self, input):\n",
    "        #x = self.EmbedPatient(input) # [seqlen*batchsize*embdim]\n",
    "\n",
    "        x , lt = self.EmbedPatient_MB(input)\n",
    "        x = x.permute(1,2,0) # [N, Co, W]\n",
    "        \n",
    "        x = [F.relu(conv(x)) for conv in self.convs1]  # [(N, Co, W), ...]*len(Ks)\n",
    "        \n",
    "        x = [F.max_pool1d(i, i.size(2)).squeeze(2) for i in x]  # [(N, Co), ...]*len(Ks)\n",
    "\n",
    "        x = torch.cat(x, 1)\n",
    "\n",
    "        x = self.dropout(x)  # (N, len(Ks)*Co)\n",
    "        logit = self.fc1(x)  # (N, C)\n",
    "        y = self.sigmoid(logit)\n",
    "        \n",
    "        return y , lt"
   ]
  },
  {
   "cell_type": "code",
   "execution_count": null,
   "metadata": {
    "collapsed": true
   },
   "outputs": [],
   "source": [
    "\n",
    "model = CNN_EHR(pred_cnt=20000, embed_dim=128, ch_out=64, kernel_sizes=[3], dropout=0.1, eb_mode='sum')\n",
    "\n",
    "if use_cuda:\n",
    "    model = model.cuda()\n"
   ]
  },
  {
   "cell_type": "code",
   "execution_count": null,
   "metadata": {
    "collapsed": true
   },
   "outputs": [],
   "source": [
    "def train (mini_batch, criterion, optimizer):  \n",
    "    \n",
    "    model.zero_grad()\n",
    "    output , label_tensor = model(mini_batch)\n",
    "    loss = criterion(output, label_tensor)\n",
    "    loss.backward()\n",
    "    optimizer.step()\n",
    "   \n",
    "    return output, loss.data[0]\n"
   ]
  },
  {
   "cell_type": "code",
   "execution_count": null,
   "metadata": {
    "collapsed": true
   },
   "outputs": [],
   "source": [
    "def variableFromEHRSeq(ehr_seq):\n",
    "    # ehr_seq is a list of list\n",
    "    result = []\n",
    "    if use_cuda:\n",
    "        for i in range(len(ehr_seq)):\n",
    "            result.append( Variable(torch.LongTensor([int(v) for v in ehr_seq[i]])).cuda() )\n",
    "    # if use_cuda:\n",
    "    #     return result.cuda()\n",
    "    else:\n",
    "        for i in range(len(ehr_seq)):\n",
    "            result.append( Variable(torch.LongTensor([int(v) for v in ehr_seq[i]])) )\n",
    "\n",
    "    return result"
   ]
  },
  {
   "cell_type": "code",
   "execution_count": null,
   "metadata": {
    "collapsed": true
   },
   "outputs": [],
   "source": [
    "# training all samples in random order\n",
    "import time\n",
    "import math\n",
    "\n",
    "def timeSince(since):\n",
    "    now = time.time()\n",
    "    s = now - since\n",
    "    m = math.floor(s / 60)\n",
    "    s -= m * 60\n",
    "    return '%dm %ds' % (m, s)\n",
    "\n",
    "\n",
    "\n",
    "\n"
   ]
  },
  {
   "cell_type": "code",
   "execution_count": null,
   "metadata": {
    "collapsed": true
   },
   "outputs": [],
   "source": [
    "def run_model_train(dataset,batch_size,learning_rate = 0.001 ):\n",
    "    \n",
    "    #optimizer = optim.SGD(model.parameters(), lr=learning_rate)\n",
    "    #optimizer = optim.Adadelta(model.parameters(), '''lr=learning_rate,''' weight_decay=0)\n",
    "    optimizer = optim.Adam(model.parameters(), weight_decay=0)\n",
    "    \n",
    "    dataset.sort(key=lambda pt:len(pt[1])) \n",
    "   \n",
    "    # Keep track of losses for plotting\n",
    "    current_loss = 0\n",
    "    all_losses = []\n",
    "    print_every = 10#int(batch_size/2)\n",
    "    plot_every = 5\n",
    "    iter=0\n",
    "    n_batches = int(np.ceil(int(len(dataset)) / int(batch_size)))\n",
    "    # print('number of Batches',n_batches)\n",
    "    start = time.time()\n",
    "\n",
    "    for index in random.sample(range(n_batches), n_batches):\n",
    "            batch = dataset[index*batch_size:(index+1)*batch_size]\n",
    "            output, loss = train(batch, criterion = nn.BCELoss(), optimizer = optimizer)\n",
    "            current_loss += loss\n",
    "            iter +=1\n",
    "            # Print iter number, loss, name and guess\n",
    "            #if iter % print_every == 0:\n",
    "             #   print('%d %d%% (%s) %.4f ' % ( iter, iter/ n_batches * 100, timeSince(start), loss))\n",
    "\n",
    "            # Add current loss avg to list of losses\n",
    "            if iter % plot_every == 0:\n",
    "                all_losses.append(current_loss / plot_every)\n",
    "                current_loss = 0\n",
    "                \n",
    "    return current_loss,all_losses\n",
    "\n",
    "    \n",
    "    "
   ]
  },
  {
   "cell_type": "code",
   "execution_count": null,
   "metadata": {
    "collapsed": true
   },
   "outputs": [],
   "source": [
    "def calculate_auc(test_model, dataset, batch_size=200):\n",
    "\n",
    "    n_batches = int(np.ceil(int(len(dataset)) / int(batch_size)))\n",
    "    labelVec =[]\n",
    "    y_hat= []\n",
    "    for index in range(n_batches):\n",
    "            batch = dataset[index*batch_size:(index+1)*batch_size]\n",
    "            output, label_t = model(batch)\n",
    "            y_hat.append(output.cpu().data.numpy()[0][0])\n",
    "            labelVec.append(label_t.cpu().data.numpy()[0][0])\n",
    "    #print (labelVec, y_hat)\n",
    "    auc = roc_auc_score(labelVec, y_hat)\n",
    "    return auc"
   ]
  },
  {
   "cell_type": "code",
   "execution_count": null,
   "metadata": {},
   "outputs": [],
   "source": [
    "epochs=20\n",
    "batch_size=200\n",
    "current_loss_l=[]\n",
    "all_losses_l=[]\n",
    "\n",
    "for ep in range(epochs):\n",
    "    current_loss_la,all_losses_la = run_model_train(train_sl,batch_size)\n",
    "    train_auc = calculate_auc(model,train_sl,batch_size)\n",
    "    test_auc = calculate_auc(model,test_sl,batch_size)\n",
    "    valid_auc = calculate_auc(model,valid_sl,batch_size)\n",
    "    print (\"Epoch \", ep,\" : \",\"Train_auc :\", train_auc, \" , Valid_auc : \", valid_auc, \" ,& Test_auc : \" , test_auc)\n",
    "    current_loss_l.append(current_loss_la)\n",
    "    all_losses_l.append (all_losses_la)"
   ]
  },
  {
   "cell_type": "code",
   "execution_count": null,
   "metadata": {
    "collapsed": true
   },
   "outputs": [],
   "source": [
    "#all_losses_l"
   ]
  },
  {
   "cell_type": "code",
   "execution_count": null,
   "metadata": {
    "collapsed": true
   },
   "outputs": [],
   "source": [
    "# plotting and diagnose\n",
    "import matplotlib.pyplot as plt\n",
    "import matplotlib.ticker as ticker\n",
    "import numpy as np\n",
    "\n",
    "\n",
    "def showPlot(points):\n",
    "    plt.figure()\n",
    "    fig, ax = plt.subplots()\n",
    "    # this locator puts ticks at regular intervals\n",
    "    loc = ticker.MultipleLocator(base=0.2)\n",
    "    ax.yaxis.set_major_locator(loc)\n",
    "    plt.plot(points)\n",
    "    \n",
    "for all_losses_a in all_losses_l:\n",
    "    showPlot(all_losses_a)"
   ]
  },
  {
   "cell_type": "code",
   "execution_count": null,
   "metadata": {
    "collapsed": true
   },
   "outputs": [],
   "source": []
  },
  {
   "cell_type": "code",
   "execution_count": null,
   "metadata": {},
   "outputs": [],
   "source": [
    "##from torchviz import make_dot, make_dot_from_trace\n",
    "output , label_tensor = model(train_sl[0:10])\n",
    "make_dot (output)"
   ]
  },
  {
   "cell_type": "code",
   "execution_count": null,
   "metadata": {
    "collapsed": true
   },
   "outputs": [],
   "source": [
    "model"
   ]
  },
  {
   "cell_type": "code",
   "execution_count": null,
   "metadata": {
    "collapsed": true
   },
   "outputs": [],
   "source": []
  }
 ],
 "metadata": {
  "kernelspec": {
   "display_name": "Python 3",
   "language": "python",
   "name": "python3"
  },
  "language_info": {
   "codemirror_mode": {
    "name": "ipython",
    "version": 3
   },
   "file_extension": ".py",
   "mimetype": "text/x-python",
   "name": "python",
   "nbconvert_exporter": "python",
   "pygments_lexer": "ipython3",
   "version": "3.5.3"
  }
 },
 "nbformat": 4,
 "nbformat_minor": 1
}
