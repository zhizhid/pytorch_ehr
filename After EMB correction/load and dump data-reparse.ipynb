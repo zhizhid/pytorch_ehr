{
 "cells": [
  {
   "cell_type": "code",
   "execution_count": 1,
   "metadata": {},
   "outputs": [],
   "source": [
    "from __future__ import print_function, division\n",
    "from io import open\n",
    "import string\n",
    "import re\n",
    "import random\n",
    "import pandas as pd\n",
    "import os\n",
    "import sys\n",
    "import argparse\n",
    "import time\n",
    "import math\n",
    "\n",
    "import torch\n",
    "import torch.nn as nn\n",
    "from torch.autograd import Variable\n",
    "from torch import optim\n",
    "import torch.nn.functional as F\n",
    "\n",
    "from sklearn.metrics import roc_auc_score  \n",
    "from sklearn.metrics import roc_curve \n",
    "\n",
    "import matplotlib.pyplot as plt\n",
    "import matplotlib.ticker as ticker\n",
    "import numpy as np\n",
    "\n",
    "try:\n",
    "    import cPickle as pickle\n",
    "except:\n",
    "    import pickle"
   ]
  },
  {
   "cell_type": "code",
   "execution_count": 10,
   "metadata": {},
   "outputs": [
    {
     "name": "stdout",
     "output_type": "stream",
     "text": [
      "test 8956\n",
      "train 29504\n",
      "valid 4269\n"
     ]
    }
   ],
   "source": [
    "dc_l=[15566,109,84,267,62,144,379,149,61,231,13202,154,345,83,63,85,4263,184,1036]\n",
    "dc_a_l=[109,267,144,379,149,61,231,13202,345,83,1036]\n",
    "dc_g_r_l=[15566,84,62,154,63,85,4263,184]\n",
    "\n",
    "for h in [143]: #[104 ,118 ,131 ,154 ,212 ,225 ,384 ,85 ,14 ,143]:\n",
    "    t_file= '/data/projects/cerner_dev/cl2_hosp_pdata/h50_cl2_all_hosp_'+ str(h)\n",
    "    t_seqfile= t_file +'.visits.'\n",
    "    t_labfile= t_file +'.labels.'\n",
    "    t_timefile= t_file +'.days.'\n",
    "    t_ptfile= t_file +'.pts.'\n",
    "    \n",
    "    for s in ['test','train','valid']:\n",
    "        fset=[]\n",
    "        t_seqfile_s=t_seqfile+s\n",
    "        t_labfile_s=t_labfile+s\n",
    "        t_timefile_s= t_timefile +s\n",
    "        t_ptfile_s= t_ptfile +s\n",
    "        set_x = pickle.load(open(t_seqfile_s, 'rb'),encoding= 'bytes')\n",
    "        set_y = pickle.load(open(t_labfile_s, 'rb'),encoding= 'bytes')\n",
    "        set_t = pickle.load(open(t_timefile_s, 'rb'),encoding= 'bytes')\n",
    "        set_p = pickle.load(open(t_ptfile_s, 'rb'),encoding= 'bytes')\n",
    "        for pt_idx in range(len(set_y)):\n",
    "            pt_sk= set_p[pt_idx]\n",
    "            pt_lbl= set_y[pt_idx]\n",
    "            pt_vis= set_x[pt_idx]\n",
    "            pt_td= set_t[pt_idx]\n",
    "            d_gr=[]\n",
    "            n_seq=[]\n",
    "            d_a_v=[]\n",
    "            for v in range(len(pt_vis)):\n",
    "                    nv=[]\n",
    "                    nv.append([pt_td[v]])\n",
    "                    for c in pt_vis[v]:\n",
    "                        if (c in dc_g_r_l) and (c not in d_gr): \n",
    "                                d_gr.append(c) \n",
    "                        elif c in dc_a_l:\n",
    "                                d_a_v.append(c)                  \n",
    "                        else: \n",
    "                            nv.append(c)                   \n",
    "                   #n_seq.append([d_a_v,nv]) ### age group is a visit sublist\n",
    "                    n_seq.append(nv)\n",
    "            d_gr.append(d_a_v[0]) \n",
    "            #n_pt=[pt[0],d_gr ,n_seq]\n",
    "            n_pt= [pt_sk,pt_lbl,d_gr ,n_seq]\n",
    "            fset.append(n_pt)\n",
    "        \n",
    "        print (s,len(fset))        \n",
    "              \n",
    "        fname='/data/projects/py_ehr_2/Data/h_'+str(h)+'cl2_combined_tp.'+s\n",
    "        pickle.dump(fset, open(fname, 'wb'), -1)"
   ]
  },
  {
   "cell_type": "code",
   "execution_count": 2,
   "metadata": {},
   "outputs": [
    {
     "name": "stdout",
     "output_type": "stream",
     "text": [
      "test 8956 [310327, 1, [63, 62, 61], [[[0], 1456], [[9], 124, 63, 62, 375, 239], [[32], 239, 62, 63], [[29], 239, 62, 63], [[189], 722, 63, 62, 129, 371, 399, 230], [[16], 62, 63, 230], [[98], 62, 239, 63, 449], [[28], 793, 230, 62, 124, 63, 239, 449], [[18], 239, 63, 62], [[28], 239, 62, 63], [[35], 239, 63, 62], [[28], 239, 62, 63], [[28], 63, 239, 62], [[28], 62, 239, 63], [[17], 230, 449, 59, 945, 124, 62, 63], [[12], 62, 63, 239], [[28], 63, 239, 62]]]\n",
      "train 29504 [310048, 1, [63, 84, 231], [[[0], 1416], [[15], 57, 457, 84, 63], [[13], 63, 1416, 2504, 4515, 84, 925], [[21], 518, 57, 232, 84, 150, 63], [[43], 457, 132, 556, 57, 84, 63], [[8], 2669, 8, 556, 2375, 84, 384, 421, 1788, 63, 6], [[40], 68, 63, 1416, 84], [[15], 449, 57, 84, 457, 556, 63], [[28], 84, 559, 63, 675, 57], [[48], 1416, 63, 84], [[15], 388, 457, 57, 63, 84, 449], [[5], 63, 84, 268], [[19], 195, 457, 343, 1182, 53, 173, 553, 207, 84, 751, 34, 12, 31, 409, 212, 16, 158, 22, 80, 1259, 6, 135, 956, 189, 657, 56, 479, 1416, 57, 63], [[4], 63, 84, 1240, 57], [[21], 63, 57, 457, 1788, 556, 84], [[6], 1041, 63, 1610, 84], [[21], 63, 84, 1416], [[35], 1041, 1416, 1610, 1612, 5131, 63, 84], [[22], 84, 63, 1416], [[62], 1416, 84, 63], [[70], 84, 63, 1610], [[16], 31, 207, 80, 657, 104, 191, 173, 34, 956, 84, 167, 479, 961, 1416, 57, 63, 1914, 276, 56, 53, 118, 515, 16, 477, 1158, 189, 195, 23, 6, 212], [[40], 84, 63, 1416], [[35], 1610, 63, 84, 1041, 381], [[22], 84, 63, 2685], [[13], 84, 63, 2669, 1858, 1416, 798], [[28], 559, 1610, 1416, 84, 1041, 63, 381, 1858], [[21], 84, 63, 1416], [[35], 1610, 1416, 63, 371, 84], [[21], 84, 1416, 63], [[49], 371, 63, 1416, 84], [[35], 84, 798, 2747, 1610, 63, 5433, 371, 68, 1480, 1416], [[9], 84, 57, 63], [[41], 63, 8012, 84, 371], [[6], 84, 1416, 119, 63, 371, 2432], [[2], 63, 1480, 84], [[26], 84, 675, 611, 371, 1416, 63], [[7], 6858, 84, 63, 1416], [[37], 63, 57, 84, 449], [[61], 1610, 63, 371, 84, 1416], [[16], 84, 57, 1108, 449, 63], [[75], 371, 84, 703, 1416, 63, 1858], [[273], 1416, 68, 675, 63, 84, 703, 119, 1480, 371, 2854], [[35], 84, 1416, 2854, 63]]]\n",
      "valid 4269 [310479, 1, [84, 85, 149], [[[0], 258, 657, 174, 356, 31, 214, 135, 195, 614, 1259, 159, 16, 133, 330]]]\n"
     ]
    }
   ],
   "source": [
    "for s in ['test','train','valid']:    \n",
    "    fname='/data/projects/py_ehr_2/Data/h_143cl2_combined_tp.'+s\n",
    "    fset1=pickle.load(open(fname, 'rb'),encoding='bytes')\n",
    "    print (s,len(fset1),fset1[0])"
   ]
  },
  {
   "cell_type": "code",
   "execution_count": 8,
   "metadata": {
    "scrolled": true
   },
   "outputs": [
    {
     "name": "stdout",
     "output_type": "stream",
     "text": [
      "b'r_White' 85\n",
      "b'a_75-79 years' 109\n",
      "b'a_35-39 years' 13202\n",
      "b'a_45-49 years' 379\n",
      "b'g_Male' 62\n",
      "b'a_40-44 years' 1036\n",
      "b'a_65-69 years' 149\n",
      "b'a_50-54 years' 83\n",
      "b'r_MultiRacial' 4263\n",
      "b'r_AsianPacific' 154\n",
      "b'g_Female' 84\n",
      "b'r_AfricanAmerican' 63\n",
      "b'a_55-59 years' 345\n",
      "b'a_70-74 years' 61\n",
      "b'a_80-84 years' 231\n",
      "b'g_UnIdentified' 15566\n",
      "b'a_60-64 years' 144\n",
      "b'a_85+ years' 267\n",
      "b'r_UnIdentified' 184\n"
     ]
    }
   ],
   "source": [
    "emb_types = pickle.load(open('/data/projects/cerner_dev/cl2_hosp_pdata/h50_cl2_all.types.train', 'rb'),encoding='bytes')\n",
    "\n",
    "for x in emb_types:\n",
    "    if ('a_' in str(x)) or ( 'g_' in str(x))or ('r_' in str(x)) : print (x,emb_types[x])"
   ]
  },
  {
   "cell_type": "code",
   "execution_count": null,
   "metadata": {},
   "outputs": [],
   "source": [
    "'''\n",
    "pickle.dump(train_sl, open('hf50_bal_train', 'wb'), -1)\n",
    "pickle.dump(test_sl, open('hf50_bal_test', 'wb'), -1)\n",
    "pickle.dump(valid_sl, open('hf50_bal_valid', 'wb'), -1)"
   ]
  }
 ],
 "metadata": {
  "kernelspec": {
   "display_name": "Python 3",
   "language": "python",
   "name": "python3"
  },
  "language_info": {
   "codemirror_mode": {
    "name": "ipython",
    "version": 3
   },
   "file_extension": ".py",
   "mimetype": "text/x-python",
   "name": "python",
   "nbconvert_exporter": "python",
   "pygments_lexer": "ipython3",
   "version": "3.5.5"
  }
 },
 "nbformat": 4,
 "nbformat_minor": 2
}
