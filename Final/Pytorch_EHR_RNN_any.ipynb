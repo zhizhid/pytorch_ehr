{
 "cells": [
  {
   "cell_type": "markdown",
   "metadata": {},
   "source": [
    "This is playing with pytorch framework for EHR modeling. In general, a patient's health record can be represented as a sequence of visits. Each visit has certain features, and can be represented as a list of medical codes.\n",
    "\n",
    "For simplicity, we are starting with the data structure that a patient's health record is a list of list, following the line of work from Jimeng Sun's lab. We will use codes from Ed Choi to manipulate the data. \n",
    "\n",
    "The core model is an RNN , either LSTM, GRU or Vanilla RNN.\n",
    "\n",
    "# todos:\n",
    "* None for now"
   ]
  },
  {
   "cell_type": "code",
   "execution_count": 1,
   "metadata": {},
   "outputs": [],
   "source": [
    "%matplotlib inline\n",
    "from __future__ import print_function, division\n",
    "from io import open\n",
    "import string\n",
    "import re\n",
    "import random\n",
    "import sklearn \n",
    "from sklearn.metrics import roc_auc_score\n",
    "import plotly.plotly as py \n",
    "import plotly.graph_objs as go\n",
    "import torch\n",
    "import torch.nn as nn\n",
    "import torch.autograd as autograd\n",
    "from torch.autograd import Variable\n",
    "from torch import optim\n",
    "import torch.nn.functional as F\n",
    "import torch.utils.data as Data\n",
    "\n",
    "use_cuda = torch.cuda.is_available()\n",
    "\n",
    "import sys, random\n",
    "import numpy as np\n",
    "try:\n",
    "    import cPickle as pickle\n",
    "except:\n",
    "    import pickle\n",
    "\n",
    "from torchviz import make_dot, make_dot_from_trace\n",
    "\n",
    "# for windows only    \n",
    "import os\n",
    "os.environ[\"PATH\"] += os.pathsep + 'C:/Program Files (x86)/Graphviz2.38/bin/'"
   ]
  },
  {
   "cell_type": "code",
   "execution_count": 2,
   "metadata": {},
   "outputs": [
    {
     "data": {
      "text/plain": [
       "True"
      ]
     },
     "execution_count": 2,
     "metadata": {},
     "output_type": "execute_result"
    }
   ],
   "source": [
    "use_cuda"
   ]
  },
  {
   "cell_type": "code",
   "execution_count": 3,
   "metadata": {},
   "outputs": [],
   "source": [
    "# prepare data: load the input file containing list of list of list, and corresponding label file\n",
    "# and output the splitted training, valid and Test sets\n",
    "\n",
    "def data_load_split_VT(seqFile = 'data/cerner/hospital_data/h143.visits', labelFile = 'data/cerner/hospital_data/h143.labels' , test_r=0.2 , valid_r=0.1):\n",
    "\n",
    "    set_x = pickle.load(open(seqFile, 'rb'), encoding='bytes')\n",
    "    set_y = pickle.load(open(labelFile, 'rb'),encoding='bytes')\n",
    "    merged_set = [[set_y[i],set_x[i]] for i in range(len(set_x))] # merge the two lists\n",
    "\n",
    "    # set random seed\n",
    "    random.seed( 3 )\n",
    "    \n",
    "    dataSize = len(merged_set)\n",
    "    nTest = int(test_r * dataSize)\n",
    "    nValid = int(valid_r * dataSize)\n",
    "    \n",
    "    random.shuffle(merged_set)\n",
    "\n",
    "    test_set = merged_set[:nTest]\n",
    "    valid_set = merged_set[nTest:nTest+nValid]\n",
    "    train_set = merged_set[nTest+nValid:]\n",
    "\n",
    "    return train_set, valid_set, test_set"
   ]
  },
  {
   "cell_type": "code",
   "execution_count": 4,
   "metadata": {},
   "outputs": [],
   "source": [
    "train_sl , valid_sl , test_sl = data_load_split_VT()"
   ]
  },
  {
   "cell_type": "code",
   "execution_count": 5,
   "metadata": {},
   "outputs": [],
   "source": [
    "class EHR_RNN(nn.Module):\n",
    "    def __init__(self, input_size, hidden_size,embed_dim, n_layers=1,dropout_r=0.1,cell_type='LSTM',bi=False):\n",
    "        super(EHR_RNN, self).__init__()\n",
    "        self.n_layers = n_layers\n",
    "        self.hidden_size = hidden_size\n",
    "        self.embed_dim = embed_dim\n",
    "        self.dropout_r = dropout_r\n",
    "        self.cell_type = cell_type\n",
    "        self.embedBag = nn.EmbeddingBag(input_size, self.embed_dim,mode= 'sum')\n",
    "        \n",
    "        \n",
    "        \n",
    "        if self.cell_type == \"GRU\":\n",
    "            cell = nn.GRU\n",
    "        elif self.cell_type == \"RNN\":\n",
    "            cell = nn.RNN\n",
    "        elif self.cell_type == \"LSTM\":\n",
    "            cell = nn.LSTM\n",
    "        else:\n",
    "            raise NotImplementedError\n",
    "        \n",
    "        self.rnn_c = cell(self.embed_dim, hidden_size,num_layers=n_layers, dropout= dropout_r , bidirectional=bi )\n",
    "        \n",
    "        if bi:\n",
    "            self.out = nn.Linear(self.hidden_size*2,1)\n",
    "        else: \n",
    "            self.out = nn.Linear(self.hidden_size,1)\n",
    "        self.sigmoid = nn.Sigmoid()\n",
    "\n",
    "        \n",
    "    def EmbedPatient_MB(self, seq_mini_batch): # x is a ehr_seq_tensor\n",
    "        \n",
    "        lp= len(max(seq_mini_batch, key=lambda xmb: len(xmb[1]))[1]) # max number of visitgs within mb ??? verify again\n",
    "        #print ('longest',lp)\n",
    "        tb= torch.FloatTensor(len(seq_mini_batch),lp,self.embed_dim) \n",
    "        lbt1= torch.FloatTensor(len(seq_mini_batch),1)\n",
    "\n",
    "        for pt in range(len(seq_mini_batch)):\n",
    "              \n",
    "            lbt ,pt_visits =seq_mini_batch[pt]\n",
    "            lbt1[pt] = torch.FloatTensor([[float(lbt)]])\n",
    "            ml=(len(max(pt_visits, key=len))) ## getting the visit with max no. of codes ##the max number of visits for pts within the minibatch\n",
    "            txs= torch.LongTensor(len(pt_visits),ml)\n",
    "            \n",
    "            b=0\n",
    "            for i in pt_visits:\n",
    "                pd=(0, ml-len(i))\n",
    "                txs[b] = F.pad(torch.from_numpy(np.asarray(i)).view(1,-1),pd,\"constant\", 0).data\n",
    "                b=b+1\n",
    "            \n",
    "            if use_cuda:\n",
    "                txs=txs.cuda()\n",
    "                \n",
    "            emb_bp= self.embedBag(Variable(txs)) ### embed will be num_of_visits*max_num_codes*embed_dim \n",
    "            #### the embed Bag dim will be num_of_visits*embed_dim\n",
    "            \n",
    "            zp= nn.ZeroPad2d((0,0,0,(lp-len(pt_visits))))\n",
    "            xzp= zp(emb_bp)\n",
    "            tb[pt]=xzp.data\n",
    "\n",
    "        tb= tb.permute(1, 0, 2) ### as my final input need to be seq_len x batch_size x input_size\n",
    "        emb_m=Variable(tb)\n",
    "        label_tensor = Variable(lbt1)\n",
    "\n",
    "        if use_cuda:\n",
    "                label_tensor = label_tensor.cuda()\n",
    "                emb_m = emb_m.cuda()\n",
    "        #print (label_tensor)        \n",
    "        return emb_m , label_tensor\n",
    "\n",
    "    def forward(self, input):\n",
    "        \n",
    "        x_in , lt = self.EmbedPatient_MB(input)\n",
    "        \n",
    "        for i in range(self.n_layers):\n",
    "                output, hidden = self.rnn_c(x_in) # input (seq_len, batch, input_size) need to check torch.nn.utils.rnn.pack_padded_sequence() \n",
    "                                                          \n",
    "        output = self.sigmoid(self.out(output[0]))\n",
    "        #print (output, lt)\n",
    "        return output, lt\n",
    "\n"
   ]
  },
  {
   "cell_type": "code",
   "execution_count": 6,
   "metadata": {},
   "outputs": [],
   "source": [
    "\n",
    "model = EHR_RNN(input_size=20000, hidden_size=256 ,embed_dim=512, dropout_r=0, cell_type='GRU',bi=True)\n",
    "\n",
    "if use_cuda:\n",
    "    model = model.cuda()"
   ]
  },
  {
   "cell_type": "code",
   "execution_count": 7,
   "metadata": {},
   "outputs": [],
   "source": [
    "def train (mini_batch, criterion, optimizer):  \n",
    "    \n",
    "    model.zero_grad()\n",
    "    output , label_tensor = model(mini_batch,)\n",
    "    loss = criterion(output, label_tensor)\n",
    "    loss.backward()\n",
    "    optimizer.step()\n",
    "   \n",
    "    return output, loss.data[0]"
   ]
  },
  {
   "cell_type": "code",
   "execution_count": 8,
   "metadata": {},
   "outputs": [],
   "source": [
    "# training all samples in random order\n",
    "import time\n",
    "import math\n",
    "\n",
    "def timeSince(since):\n",
    "    now = time.time()\n",
    "    s = now - since\n",
    "    m = math.floor(s / 60)\n",
    "    s -= m * 60\n",
    "    return '%dm %ds' % (m, s)\n",
    "\n",
    "\n",
    "\n"
   ]
  },
  {
   "cell_type": "code",
   "execution_count": 9,
   "metadata": {},
   "outputs": [],
   "source": [
    "def run_model_train(dataset,batch_size,learning_rate = 0.01, l2=0.0001,epsl=1e-08 ):\n",
    "    \n",
    "    #optimizer = optim.SGD(model.parameters(), lr=learning_rate)\n",
    "    #optimizer = optim.Adadelta(model.parameters(), lr=learning_rate, weight_decay=0)\n",
    "    #optimizer = optim.Adam(model.parameters(),lr=learning_rate, weight_decay=learning_rate) #'''lr=learning_rate,''' \n",
    "    optimizer = optim.Adamax(model.parameters(), lr=learning_rate, weight_decay=l2 ,eps=epsl) ### Beta defaults (0.9, 0.999)\n",
    "    #optimizer = optim.RMSprop (model.parameters())\n",
    "    #optimizer = optim.Adam(model.parameters(), lr=learning_rate, weight_decay=learning_rate)\n",
    "    dataset.sort(key=lambda pt:len(pt[1])) \n",
    "    # Keep track of losses for plotting\n",
    "    current_loss = 0\n",
    "    all_losses = []\n",
    "    print_every = 10#int(batch_size/2)\n",
    "    plot_every = 5\n",
    "    iter=0\n",
    "    n_batches = int(np.ceil(int(len(dataset)) / int(batch_size)))\n",
    "    #print('number of Batches',n_batches)\n",
    "    start = time.time()\n",
    "\n",
    "    for index in random.sample(range(n_batches), n_batches):\n",
    "            batch = dataset[index*batch_size:(index+1)*batch_size]\n",
    "            output, loss = train(batch, criterion = nn.BCELoss(), optimizer = optimizer)\n",
    "            current_loss += loss\n",
    "            iter +=1\n",
    "            # Print iter number, loss, name and guess\n",
    "            #if iter % print_every == 0:\n",
    "               #print('%d %d%% (%s) %.4f ' % ( iter, iter/ n_batches * 100, timeSince(start), loss))\n",
    "\n",
    "            # Add current loss avg to list of losses\n",
    "            if iter % plot_every == 0:\n",
    "                all_losses.append(current_loss / plot_every)\n",
    "                current_loss = 0\n",
    "                \n",
    "    return current_loss,all_losses\n"
   ]
  },
  {
   "cell_type": "code",
   "execution_count": 10,
   "metadata": {},
   "outputs": [],
   "source": [
    "def calculate_auc(test_model, dataset, batch_size=200):\n",
    "\n",
    "    n_batches = int(np.ceil(int(len(dataset)) / int(batch_size)))\n",
    "    labelVec =[]\n",
    "    y_hat= []\n",
    "    \n",
    "    for index in range(n_batches):\n",
    "            batch = dataset[index*batch_size:(index+1)*batch_size]\n",
    "            output, label_t = test_model(batch)\n",
    "            y_hat.extend(output.cpu().data.view(-1).numpy())\n",
    "            labelVec.extend(label_t.cpu().data.view(-1).numpy())\n",
    "    auc = roc_auc_score(labelVec, y_hat)\n",
    "    \n",
    "    return auc"
   ]
  },
  {
   "cell_type": "code",
   "execution_count": 12,
   "metadata": {},
   "outputs": [
    {
     "name": "stdout",
     "output_type": "stream",
     "text": [
      "Epoch  0  Train_auc : 0.8265810791616597  , Valid_auc :  0.7822775638535217  ,& Test_auc :  0.8043696971889033  Avg Loss:  0.31459326048692066 Train Time (0m 24s) Eval Time (0m 38s)\n",
      "Epoch  1  Train_auc : 0.8422385182055991  , Valid_auc :  0.7872117555067054  ,& Test_auc :  0.8044121210374154  Avg Loss:  0.3041466940442721 Train Time (0m 24s) Eval Time (0m 38s)\n",
      "Epoch  2  Train_auc : 0.8563318623721132  , Valid_auc :  0.7780059090086974  ,& Test_auc :  0.7998262661819107  Avg Loss:  0.2969696709513664 Train Time (0m 24s) Eval Time (0m 38s)\n",
      "Epoch  3  Train_auc : 0.865132950305252  , Valid_auc :  0.7836381549073896  ,& Test_auc :  0.7948940858707645  Avg Loss:  0.29456270466248197 Train Time (0m 24s) Eval Time (0m 38s)\n",
      "Epoch  4  Train_auc : 0.8591881307274746  , Valid_auc :  0.7741689329523678  ,& Test_auc :  0.7852971178705839  Avg Loss:  0.2902241370081902 Train Time (0m 24s) Eval Time (0m 38s)\n",
      "Epoch  5  Train_auc : 0.8670956978524216  , Valid_auc :  0.7724337695421036  ,& Test_auc :  0.7910871573492383  Avg Loss:  0.2893352327744166 Train Time (0m 24s) Eval Time (0m 38s)\n",
      "bestValidAuc 0.787212 has a TestAuc of 0.000000 at epoch 1 \n"
     ]
    }
   ],
   "source": [
    "epochs=20\n",
    "batch_size=200\n",
    "current_loss_l=[]\n",
    "all_losses_l=[]\n",
    "train_auc_allep =[]\n",
    "valid_auc_allep =[]\n",
    "test_auc_allep=[]\n",
    "bestValidAuc = 0.0\n",
    "bestTestAuc = 0.0\n",
    "bestValidEpoch = 0\n",
    "\n",
    "for ep in range(epochs):\n",
    "    \n",
    "    start = time.time()\n",
    "    current_loss_la,all_losses_la = run_model_train(train_sl,batch_size)\n",
    "    train_time = timeSince(start)\n",
    "    eval_start = time.time()\n",
    "    train_auc = calculate_auc(model,train_sl,batch_size)\n",
    "    test_auc = calculate_auc(model,test_sl,batch_size)\n",
    "    valid_auc = calculate_auc(model,valid_sl,batch_size)\n",
    "    eval_time = timeSince(eval_start)\n",
    "    all_losses_l.append (all_losses_la)\n",
    "    avg_loss = np.mean(all_losses_la)\n",
    "    train_auc_allep.append(train_auc)\n",
    "    valid_auc_allep.append(valid_auc)\n",
    "    test_auc_allep.append(test_auc)\n",
    "    current_loss_l.append(current_loss_la)\n",
    "    print (\"Epoch \", ep,\" Train_auc :\", train_auc, \" , Valid_auc : \", valid_auc, \" ,& Test_auc : \" , test_auc, \" Avg Loss: \", avg_loss, 'Train Time (%s) Eval Time (%s)'%(train_time,eval_time) )\n",
    "    \n",
    "    if valid_auc > bestValidAuc: \n",
    "        bestValidAuc = valid_auc\n",
    "        bestValidEpoch = ep\n",
    "        bestTestAuc = test_auc\n",
    "    if ep - bestValidEpoch >3:\n",
    "          break\n",
    "            \n",
    "print ('bestValidAuc %f has a TestAuc of %f at epoch %d ' % (bestValidAuc, bestTestAuc, bestValidEpoch))\n",
    "    \n"
   ]
  },
  {
   "cell_type": "code",
   "execution_count": 13,
   "metadata": {},
   "outputs": [
    {
     "data": {
      "text/html": [
       "<iframe id=\"igraph\" scrolling=\"no\" style=\"border:none;\" seamless=\"seamless\" src=\"https://plot.ly/~LailaRasmy/6.embed\" height=\"525px\" width=\"100%\"></iframe>"
      ],
      "text/plain": [
       "<plotly.tools.PlotlyDisplay object>"
      ]
     },
     "execution_count": 13,
     "metadata": {},
     "output_type": "execute_result"
    }
   ],
   "source": [
    "import plotly.plotly as py \n",
    "import plotly.graph_objs as go\n",
    "py.sign_in('LailaRasmy','mzNHzVvwYjcZwBDZx3B7')\n",
    "\n",
    "train_auc_fg= go.Scatter(x= np.arange(epochs), y=train_auc_allep, name='train')\n",
    "test_auc_fg= go.Scatter(x= np.arange(epochs), y=test_auc_allep, name='test')\n",
    "valid_auc_fg= go.Scatter(x= np.arange(epochs), y=valid_auc_allep, name='valid')\n",
    "valid_max = max(valid_auc_allep)\n",
    "test_max = max(test_auc_allep)\n",
    "data = [train_auc_fg,test_auc_fg,valid_auc_fg]#,valid_auc_allep,test_auc_allep] \n",
    "layout = go.Layout(xaxis=dict(dtick=1))\n",
    "layout.update(dict(annotations=[go.Annotation(text=\"Max Valid\", x=valid_auc_allep.index(valid_max), y=valid_max)]))\n",
    "#layout.update(dict(annotations=[go.Annotation(text=\"Max Test\", x=test_auc_allep.index(test_max), y=test_max)]))\n",
    "fig = go.Figure(data=data, layout=layout)\n",
    "py.iplot(fig, filename='DRNN_Auc')\n",
    "#url = py.plot(data, filename='some-data')  # gen. online plot\n",
    "#py.image.save_as(data, 'some-data.png') "
   ]
  },
  {
   "cell_type": "code",
   "execution_count": null,
   "metadata": {},
   "outputs": [],
   "source": []
  }
 ],
 "metadata": {
  "kernelspec": {
   "display_name": "Python 3",
   "language": "python",
   "name": "python3"
  },
  "language_info": {
   "codemirror_mode": {
    "name": "ipython",
    "version": 3
   },
   "file_extension": ".py",
   "mimetype": "text/x-python",
   "name": "python",
   "nbconvert_exporter": "python",
   "pygments_lexer": "ipython3",
   "version": "3.5.5"
  }
 },
 "nbformat": 4,
 "nbformat_minor": 1
}
